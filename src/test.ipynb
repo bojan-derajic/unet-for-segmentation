{
 "cells": [
  {
   "cell_type": "code",
   "execution_count": 1,
   "metadata": {},
   "outputs": [],
   "source": [
    "import os\n",
    "import cv2 as cv\n",
    "import re\n",
    "import numpy as np\n",
    "from utils import draw_segmentation_mask\n",
    "from matplotlib import pyplot as plt"
   ]
  },
  {
   "cell_type": "code",
   "execution_count": 2,
   "metadata": {},
   "outputs": [],
   "source": [
    "images = \"../data/train/input/images/\"\n",
    "masks = \"../data/train/output/masks/\""
   ]
  },
  {
   "cell_type": "code",
   "execution_count": 6,
   "metadata": {},
   "outputs": [],
   "source": [
    "for img in os.listdir(images):\n",
    "    img_num = re.split(\"_|\\.\", img)[1]\n",
    "    \n",
    "    image = cv.imread(os.path.join(images, img))\n",
    "    image = cv.cvtColor(image, cv.COLOR_BGR2RGB)\n",
    "\n",
    "    mask = cv.imread(os.path.join(masks, \"mask_\"+str(img_num)+\".jpg\"))\n",
    "    mask = cv.cvtColor(mask, cv.COLOR_BGR2RGB)\n",
    "    mask = np.round(mask/255.)\n",
    "    \n",
    "    \n",
    "    image = draw_segmentation_mask(image, mask, 0.5)\n",
    "    image = cv.cvtColor(image, cv.COLOR_RGB2BGR)\n",
    "    cv.imshow(\"img\", image)\n",
    "    cv.waitKey(0)\n",
    "\n",
    "cv.destroyAllWindows()"
   ]
  },
  {
   "cell_type": "code",
   "execution_count": null,
   "metadata": {},
   "outputs": [],
   "source": [
    "masks_path = \"../data/raw_data/dino/masks_png\"\n",
    "new_masks_path = \"../data/raw_data/dino/masks\"\n",
    "\n",
    "\n",
    "for mask_name in os.listdir(masks_path):\n",
    "    mask_info = re.split(\"-|\\.\", mask_name)\n",
    "    mask_num = int(mask_info[1])\n",
    "    mask = plt.imread(os.path.join(masks_path, mask_name))\n",
    "    new_mask_name = mask_info[0] + \"-\" + str(mask_num + 1) + \"-\" + mask_info[2] + \"-\" + mask_info[3] + \"-\" + mask_info[4] + \"-\" + \"dino\" + \"-\" + mask_info[7] + \"-\" + mask_info[8] + \"-\" + mask_info[9]\n",
    "    np.save(os.path.join(new_masks_path, new_mask_name), np.array(mask))"
   ]
  },
  {
   "cell_type": "code",
   "execution_count": null,
   "metadata": {},
   "outputs": [],
   "source": [
    "mask_info"
   ]
  },
  {
   "cell_type": "code",
   "execution_count": null,
   "metadata": {},
   "outputs": [],
   "source": []
  }
 ],
 "metadata": {
  "kernelspec": {
   "display_name": "Python 3.9.15 ('unet_venv')",
   "language": "python",
   "name": "python3"
  },
  "language_info": {
   "codemirror_mode": {
    "name": "ipython",
    "version": 3
   },
   "file_extension": ".py",
   "mimetype": "text/x-python",
   "name": "python",
   "nbconvert_exporter": "python",
   "pygments_lexer": "ipython3",
   "version": "3.9.15"
  },
  "orig_nbformat": 4,
  "vscode": {
   "interpreter": {
    "hash": "cd18b0fa9e357fb31d842e2dacd7a70ddef24c29210fc762a7fd8ae609df9ee8"
   }
  }
 },
 "nbformat": 4,
 "nbformat_minor": 2
}
