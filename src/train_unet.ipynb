{
 "cells": [
  {
   "cell_type": "code",
   "execution_count": 1,
   "metadata": {},
   "outputs": [
    {
     "name": "stderr",
     "output_type": "stream",
     "text": [
      "2023-01-22 10:41:05.032140: I tensorflow/core/platform/cpu_feature_guard.cc:193] This TensorFlow binary is optimized with oneAPI Deep Neural Network Library (oneDNN) to use the following CPU instructions in performance-critical operations:  AVX2 FMA\n",
      "To enable them in other operations, rebuild TensorFlow with the appropriate compiler flags.\n",
      "2023-01-22 10:41:05.732128: W tensorflow/compiler/xla/stream_executor/platform/default/dso_loader.cc:64] Could not load dynamic library 'libnvinfer.so.7'; dlerror: libnvinfer.so.7: cannot open shared object file: No such file or directory; LD_LIBRARY_PATH: :/home/bojan/miniconda3/envs/unet/lib/\n",
      "2023-01-22 10:41:05.732190: W tensorflow/compiler/xla/stream_executor/platform/default/dso_loader.cc:64] Could not load dynamic library 'libnvinfer_plugin.so.7'; dlerror: libnvinfer_plugin.so.7: cannot open shared object file: No such file or directory; LD_LIBRARY_PATH: :/home/bojan/miniconda3/envs/unet/lib/\n",
      "2023-01-22 10:41:05.732212: W tensorflow/compiler/tf2tensorrt/utils/py_utils.cc:38] TF-TRT Warning: Cannot dlopen some TensorRT libraries. If you would like to use Nvidia GPU with TensorRT, please make sure the missing libraries mentioned above are installed properly.\n"
     ]
    }
   ],
   "source": [
    "import tensorflow as tf\n",
    "from tensorflow import keras\n",
    "from keras.preprocessing.image import ImageDataGenerator\n",
    "from keras import layers\n",
    "import cv2 as cv\n",
    "import numpy as np\n",
    "# from numba import cuda\n",
    "from datetime import datetime\n",
    "\n",
    "from utils import process_raw_data, draw_segmentation_mask\n",
    "from utils import weighted_categorical_crossentropy"
   ]
  },
  {
   "cell_type": "code",
   "execution_count": 2,
   "metadata": {},
   "outputs": [
    {
     "name": "stdout",
     "output_type": "stream",
     "text": [
      "[PhysicalDevice(name='/physical_device:GPU:0', device_type='GPU')]\n"
     ]
    },
    {
     "name": "stderr",
     "output_type": "stream",
     "text": [
      "2023-01-22 10:41:06.369993: I tensorflow/compiler/xla/stream_executor/cuda/cuda_gpu_executor.cc:981] successful NUMA node read from SysFS had negative value (-1), but there must be at least one NUMA node, so returning NUMA node zero\n",
      "2023-01-22 10:41:06.375274: I tensorflow/compiler/xla/stream_executor/cuda/cuda_gpu_executor.cc:981] successful NUMA node read from SysFS had negative value (-1), but there must be at least one NUMA node, so returning NUMA node zero\n",
      "2023-01-22 10:41:06.375933: I tensorflow/compiler/xla/stream_executor/cuda/cuda_gpu_executor.cc:981] successful NUMA node read from SysFS had negative value (-1), but there must be at least one NUMA node, so returning NUMA node zero\n"
     ]
    }
   ],
   "source": [
    "# Check if a GPU device is available\n",
    "import tensorflow as tf\n",
    "print(tf.config.list_physical_devices(\"GPU\"))"
   ]
  },
  {
   "cell_type": "code",
   "execution_count": 3,
   "metadata": {},
   "outputs": [],
   "source": [
    "IMG_WIDTH = 640\n",
    "IMG_HEIGHT = 480\n",
    "IMG_CHANNELS = 3\n",
    "\n",
    "num_classes = 3"
   ]
  },
  {
   "cell_type": "code",
   "execution_count": 4,
   "metadata": {},
   "outputs": [
    {
     "name": "stderr",
     "output_type": "stream",
     "text": [
      "2023-01-22 10:41:06.405334: I tensorflow/core/platform/cpu_feature_guard.cc:193] This TensorFlow binary is optimized with oneAPI Deep Neural Network Library (oneDNN) to use the following CPU instructions in performance-critical operations:  AVX2 FMA\n",
      "To enable them in other operations, rebuild TensorFlow with the appropriate compiler flags.\n",
      "2023-01-22 10:41:06.405625: I tensorflow/compiler/xla/stream_executor/cuda/cuda_gpu_executor.cc:981] successful NUMA node read from SysFS had negative value (-1), but there must be at least one NUMA node, so returning NUMA node zero\n",
      "2023-01-22 10:41:06.406294: I tensorflow/compiler/xla/stream_executor/cuda/cuda_gpu_executor.cc:981] successful NUMA node read from SysFS had negative value (-1), but there must be at least one NUMA node, so returning NUMA node zero\n",
      "2023-01-22 10:41:06.406781: I tensorflow/compiler/xla/stream_executor/cuda/cuda_gpu_executor.cc:981] successful NUMA node read from SysFS had negative value (-1), but there must be at least one NUMA node, so returning NUMA node zero\n",
      "2023-01-22 10:41:06.829619: I tensorflow/compiler/xla/stream_executor/cuda/cuda_gpu_executor.cc:981] successful NUMA node read from SysFS had negative value (-1), but there must be at least one NUMA node, so returning NUMA node zero\n",
      "2023-01-22 10:41:06.830135: I tensorflow/compiler/xla/stream_executor/cuda/cuda_gpu_executor.cc:981] successful NUMA node read from SysFS had negative value (-1), but there must be at least one NUMA node, so returning NUMA node zero\n",
      "2023-01-22 10:41:06.830480: I tensorflow/compiler/xla/stream_executor/cuda/cuda_gpu_executor.cc:981] successful NUMA node read from SysFS had negative value (-1), but there must be at least one NUMA node, so returning NUMA node zero\n",
      "2023-01-22 10:41:06.830802: I tensorflow/core/common_runtime/gpu/gpu_device.cc:1613] Created device /job:localhost/replica:0/task:0/device:GPU:0 with 10655 MB memory:  -> device: 0, name: NVIDIA TITAN Xp, pci bus id: 0000:01:00.0, compute capability: 6.1\n"
     ]
    }
   ],
   "source": [
    "# Contracting path\n",
    "num_filters = 64\n",
    "dropout_rate = 0.1\n",
    "filter_size = (3, 3)\n",
    "\n",
    "input = layers.Input((IMG_HEIGHT, IMG_WIDTH, IMG_CHANNELS))\n",
    "c1 = layers.Conv2D(num_filters, filter_size, padding=\"same\", activation=\"relu\", kernel_initializer=\"he_normal\")(input)\n",
    "c1 = layers.Dropout(dropout_rate)(c1)\n",
    "c1 = layers.Conv2D(num_filters, filter_size, padding=\"same\", activation=\"relu\", kernel_initializer=\"he_normal\")(c1)\n",
    "p1 = layers.MaxPool2D((2, 2), (2, 2))(c1)\n",
    "\n",
    "c2 = layers.Conv2D(2*num_filters, filter_size, padding=\"same\", activation=\"relu\", kernel_initializer=\"he_normal\")(p1)\n",
    "c2 = layers.Dropout(dropout_rate)(c2)\n",
    "c2 = layers.Conv2D(2*num_filters, filter_size, padding=\"same\", activation=\"relu\", kernel_initializer=\"he_normal\")(c2)\n",
    "p2 = layers.MaxPool2D((2, 2), (2, 2))(c2)\n",
    "\n",
    "c3 = layers.Conv2D(4*num_filters, filter_size, padding=\"same\", activation=\"relu\", kernel_initializer=\"he_normal\")(p2)\n",
    "c3 = layers.Dropout(dropout_rate)(c3)\n",
    "c3 = layers.Conv2D(4*num_filters, filter_size, padding=\"same\", activation=\"relu\", kernel_initializer=\"he_normal\")(c3)\n",
    "p3 = layers.MaxPool2D((2, 2), (2, 2))(c3)\n",
    "\n",
    "c4 = layers.Conv2D(8*num_filters, filter_size, padding=\"same\", activation=\"relu\", kernel_initializer=\"he_normal\")(p3)\n",
    "c4 = layers.Dropout(dropout_rate)(c4)\n",
    "c4 = layers.Conv2D(8*num_filters, filter_size, padding=\"same\", activation=\"relu\", kernel_initializer=\"he_normal\")(c4)\n",
    "p4 = layers.MaxPool2D((2, 2), (2, 2))(c4)\n",
    "\n",
    "c5 = layers.Conv2D(16*num_filters, filter_size, padding=\"same\", activation=\"relu\", kernel_initializer=\"he_normal\")(p4)\n",
    "c5 = layers.Dropout(dropout_rate)(c5)\n",
    "c5 = layers.Conv2D(16*num_filters, filter_size, padding=\"same\", activation=\"relu\", kernel_initializer=\"he_normal\")(c5)"
   ]
  },
  {
   "cell_type": "code",
   "execution_count": 5,
   "metadata": {},
   "outputs": [],
   "source": [
    "# Expanding path\n",
    "u6 = layers.Conv2DTranspose(8*num_filters, (2, 2), (2, 2), padding=\"same\")(c5)\n",
    "c6 = layers.Concatenate(axis=3)([c4, u6])\n",
    "c6 = layers.Conv2D(8*num_filters, filter_size, padding=\"same\", activation=\"relu\", kernel_initializer=\"he_normal\")(c6)\n",
    "c6 = layers.Dropout(dropout_rate)(c6)\n",
    "c6 = layers.Conv2D(8*num_filters, filter_size, padding=\"same\", activation=\"relu\", kernel_initializer=\"he_normal\")(c6)\n",
    "\n",
    "u7 = layers.Conv2DTranspose(4*num_filters, (2, 2), (2, 2), padding=\"same\")(c6)\n",
    "c7 = layers.Concatenate(axis=3)([c3, u7])\n",
    "c7 = layers.Conv2D(4*num_filters, filter_size, padding=\"same\", activation=\"relu\", kernel_initializer=\"he_normal\")(c7)\n",
    "c7 = layers.Dropout(dropout_rate)(c7)\n",
    "c7 = layers.Conv2D(4*num_filters, filter_size, padding=\"same\", activation=\"relu\", kernel_initializer=\"he_normal\")(c7)\n",
    "\n",
    "u8 = layers.Conv2DTranspose(2*num_filters, (2, 2), (2, 2), padding=\"same\")(c7)\n",
    "c8 = layers.Concatenate(axis=3)([c2, u8])\n",
    "c8 = layers.Conv2D(2*num_filters, filter_size, padding=\"same\", activation=\"relu\", kernel_initializer=\"he_normal\")(c8)\n",
    "c8 = layers.Dropout(dropout_rate)(c8)\n",
    "c8 = layers.Conv2D(2*num_filters, filter_size, padding=\"same\", activation=\"relu\", kernel_initializer=\"he_normal\")(c8)\n",
    "\n",
    "u9 = layers.Conv2DTranspose(num_filters, (2, 2), (2, 2), padding=\"same\")(c8)\n",
    "c9 = layers.Concatenate(axis=3)([c1, u9])\n",
    "c9 = layers.Conv2D(num_filters, filter_size, padding=\"same\", activation=\"relu\", kernel_initializer=\"he_normal\")(c9)\n",
    "c9 = layers.Dropout(dropout_rate)(c9)\n",
    "c9 = layers.Conv2D(num_filters, filter_size, padding=\"same\", activation=\"relu\", kernel_initializer=\"he_normal\")(c9)\n",
    "\n",
    "output = layers.Conv2D(num_classes, (1, 1), activation=\"softmax\")(c9)"
   ]
  },
  {
   "cell_type": "code",
   "execution_count": 6,
   "metadata": {},
   "outputs": [
    {
     "name": "stdout",
     "output_type": "stream",
     "text": [
      "Model: \"model\"\n",
      "__________________________________________________________________________________________________\n",
      " Layer (type)                   Output Shape         Param #     Connected to                     \n",
      "==================================================================================================\n",
      " input_1 (InputLayer)           [(None, 480, 640, 3  0           []                               \n",
      "                                )]                                                                \n",
      "                                                                                                  \n",
      " conv2d (Conv2D)                (None, 480, 640, 64  1792        ['input_1[0][0]']                \n",
      "                                )                                                                 \n",
      "                                                                                                  \n",
      " dropout (Dropout)              (None, 480, 640, 64  0           ['conv2d[0][0]']                 \n",
      "                                )                                                                 \n",
      "                                                                                                  \n",
      " conv2d_1 (Conv2D)              (None, 480, 640, 64  36928       ['dropout[0][0]']                \n",
      "                                )                                                                 \n",
      "                                                                                                  \n",
      " max_pooling2d (MaxPooling2D)   (None, 240, 320, 64  0           ['conv2d_1[0][0]']               \n",
      "                                )                                                                 \n",
      "                                                                                                  \n",
      " conv2d_2 (Conv2D)              (None, 240, 320, 12  73856       ['max_pooling2d[0][0]']          \n",
      "                                8)                                                                \n",
      "                                                                                                  \n",
      " dropout_1 (Dropout)            (None, 240, 320, 12  0           ['conv2d_2[0][0]']               \n",
      "                                8)                                                                \n",
      "                                                                                                  \n",
      " conv2d_3 (Conv2D)              (None, 240, 320, 12  147584      ['dropout_1[0][0]']              \n",
      "                                8)                                                                \n",
      "                                                                                                  \n",
      " max_pooling2d_1 (MaxPooling2D)  (None, 120, 160, 12  0          ['conv2d_3[0][0]']               \n",
      "                                8)                                                                \n",
      "                                                                                                  \n",
      " conv2d_4 (Conv2D)              (None, 120, 160, 25  295168      ['max_pooling2d_1[0][0]']        \n",
      "                                6)                                                                \n",
      "                                                                                                  \n",
      " dropout_2 (Dropout)            (None, 120, 160, 25  0           ['conv2d_4[0][0]']               \n",
      "                                6)                                                                \n",
      "                                                                                                  \n",
      " conv2d_5 (Conv2D)              (None, 120, 160, 25  590080      ['dropout_2[0][0]']              \n",
      "                                6)                                                                \n",
      "                                                                                                  \n",
      " max_pooling2d_2 (MaxPooling2D)  (None, 60, 80, 256)  0          ['conv2d_5[0][0]']               \n",
      "                                                                                                  \n",
      " conv2d_6 (Conv2D)              (None, 60, 80, 512)  1180160     ['max_pooling2d_2[0][0]']        \n",
      "                                                                                                  \n",
      " dropout_3 (Dropout)            (None, 60, 80, 512)  0           ['conv2d_6[0][0]']               \n",
      "                                                                                                  \n",
      " conv2d_7 (Conv2D)              (None, 60, 80, 512)  2359808     ['dropout_3[0][0]']              \n",
      "                                                                                                  \n",
      " max_pooling2d_3 (MaxPooling2D)  (None, 30, 40, 512)  0          ['conv2d_7[0][0]']               \n",
      "                                                                                                  \n",
      " conv2d_8 (Conv2D)              (None, 30, 40, 1024  4719616     ['max_pooling2d_3[0][0]']        \n",
      "                                )                                                                 \n",
      "                                                                                                  \n",
      " dropout_4 (Dropout)            (None, 30, 40, 1024  0           ['conv2d_8[0][0]']               \n",
      "                                )                                                                 \n",
      "                                                                                                  \n",
      " conv2d_9 (Conv2D)              (None, 30, 40, 1024  9438208     ['dropout_4[0][0]']              \n",
      "                                )                                                                 \n",
      "                                                                                                  \n",
      " conv2d_transpose (Conv2DTransp  (None, 60, 80, 512)  2097664    ['conv2d_9[0][0]']               \n",
      " ose)                                                                                             \n",
      "                                                                                                  \n",
      " concatenate (Concatenate)      (None, 60, 80, 1024  0           ['conv2d_7[0][0]',               \n",
      "                                )                                 'conv2d_transpose[0][0]']       \n",
      "                                                                                                  \n",
      " conv2d_10 (Conv2D)             (None, 60, 80, 512)  4719104     ['concatenate[0][0]']            \n",
      "                                                                                                  \n",
      " dropout_5 (Dropout)            (None, 60, 80, 512)  0           ['conv2d_10[0][0]']              \n",
      "                                                                                                  \n",
      " conv2d_11 (Conv2D)             (None, 60, 80, 512)  2359808     ['dropout_5[0][0]']              \n",
      "                                                                                                  \n",
      " conv2d_transpose_1 (Conv2DTran  (None, 120, 160, 25  524544     ['conv2d_11[0][0]']              \n",
      " spose)                         6)                                                                \n",
      "                                                                                                  \n",
      " concatenate_1 (Concatenate)    (None, 120, 160, 51  0           ['conv2d_5[0][0]',               \n",
      "                                2)                                'conv2d_transpose_1[0][0]']     \n",
      "                                                                                                  \n",
      " conv2d_12 (Conv2D)             (None, 120, 160, 25  1179904     ['concatenate_1[0][0]']          \n",
      "                                6)                                                                \n",
      "                                                                                                  \n",
      " dropout_6 (Dropout)            (None, 120, 160, 25  0           ['conv2d_12[0][0]']              \n",
      "                                6)                                                                \n",
      "                                                                                                  \n",
      " conv2d_13 (Conv2D)             (None, 120, 160, 25  590080      ['dropout_6[0][0]']              \n"
     ]
    },
    {
     "name": "stdout",
     "output_type": "stream",
     "text": [
      "                                6)                                                                \n",
      "                                                                                                  \n",
      " conv2d_transpose_2 (Conv2DTran  (None, 240, 320, 12  131200     ['conv2d_13[0][0]']              \n",
      " spose)                         8)                                                                \n",
      "                                                                                                  \n",
      " concatenate_2 (Concatenate)    (None, 240, 320, 25  0           ['conv2d_3[0][0]',               \n",
      "                                6)                                'conv2d_transpose_2[0][0]']     \n",
      "                                                                                                  \n",
      " conv2d_14 (Conv2D)             (None, 240, 320, 12  295040      ['concatenate_2[0][0]']          \n",
      "                                8)                                                                \n",
      "                                                                                                  \n",
      " dropout_7 (Dropout)            (None, 240, 320, 12  0           ['conv2d_14[0][0]']              \n",
      "                                8)                                                                \n",
      "                                                                                                  \n",
      " conv2d_15 (Conv2D)             (None, 240, 320, 12  147584      ['dropout_7[0][0]']              \n",
      "                                8)                                                                \n",
      "                                                                                                  \n",
      " conv2d_transpose_3 (Conv2DTran  (None, 480, 640, 64  32832      ['conv2d_15[0][0]']              \n",
      " spose)                         )                                                                 \n",
      "                                                                                                  \n",
      " concatenate_3 (Concatenate)    (None, 480, 640, 12  0           ['conv2d_1[0][0]',               \n",
      "                                8)                                'conv2d_transpose_3[0][0]']     \n",
      "                                                                                                  \n",
      " conv2d_16 (Conv2D)             (None, 480, 640, 64  73792       ['concatenate_3[0][0]']          \n",
      "                                )                                                                 \n",
      "                                                                                                  \n",
      " dropout_8 (Dropout)            (None, 480, 640, 64  0           ['conv2d_16[0][0]']              \n",
      "                                )                                                                 \n",
      "                                                                                                  \n",
      " conv2d_17 (Conv2D)             (None, 480, 640, 64  36928       ['dropout_8[0][0]']              \n",
      "                                )                                                                 \n",
      "                                                                                                  \n",
      " conv2d_18 (Conv2D)             (None, 480, 640, 3)  195         ['conv2d_17[0][0]']              \n",
      "                                                                                                  \n",
      "==================================================================================================\n",
      "Total params: 31,031,875\n",
      "Trainable params: 31,031,875\n",
      "Non-trainable params: 0\n",
      "__________________________________________________________________________________________________\n"
     ]
    }
   ],
   "source": [
    "unet_model = keras.Model(inputs=[input], outputs=[output])\n",
    "\n",
    "optimizer = keras.optimizers.Nadam(learning_rate=1e-5)\n",
    "\n",
    "weights = [4, 1, 2]\n",
    "loss = weighted_categorical_crossentropy(weights)\n",
    "\n",
    "unet_model.compile(optimizer=optimizer, loss=loss, metrics=[\"accuracy\"])\n",
    "unet_model.summary()"
   ]
  },
  {
   "cell_type": "code",
   "execution_count": 7,
   "metadata": {},
   "outputs": [],
   "source": [
    "raw_data_path = \"../data/raw_data/\"\n",
    "train_path = \"../data/train/\"\n",
    "test_path = \"../data/test/\"\n",
    "\n",
    "label_names = [\"korov\", \"maticnjak\"]\n",
    "member_names = [\"ivan\", \"mladen\", \"dino\", \"milan\", \"bojan\"]\n",
    "test_ratio = 0.1\n",
    "\n",
    "# process_raw_data(raw_data_path, train_path, test_path, member_names, label_names, test_ratio)"
   ]
  },
  {
   "cell_type": "code",
   "execution_count": 8,
   "metadata": {},
   "outputs": [
    {
     "name": "stdout",
     "output_type": "stream",
     "text": [
      "Found 259 images belonging to 1 classes.\n",
      "Found 259 images belonging to 1 classes.\n",
      "Found 45 images belonging to 1 classes.\n",
      "Found 45 images belonging to 1 classes.\n"
     ]
    }
   ],
   "source": [
    "data_gen_args = dict(rotation_range=5,\n",
    "                     width_shift_range=0.05,\n",
    "                     height_shift_range=0.05,\n",
    "                     zoom_range=0.05,\n",
    "                     fill_mode=\"reflect\",\n",
    "                     horizontal_flip=True,\n",
    "                     vertical_flip=True,\n",
    "                     rescale=1./255,\n",
    "                     validation_split=0.15)\n",
    "\n",
    "image_datagen = ImageDataGenerator(**data_gen_args)\n",
    "mask_datagen = ImageDataGenerator(**data_gen_args)\n",
    "\n",
    "seed = 1\n",
    "\n",
    "train_image_generator = image_datagen.flow_from_directory(\n",
    "    train_path + \"input/\",\n",
    "    target_size=(IMG_HEIGHT, IMG_WIDTH),\n",
    "    class_mode=None,\n",
    "    batch_size=1,\n",
    "    seed=seed,\n",
    "    subset=\"training\"\n",
    ")\n",
    "\n",
    "train_label_generator = mask_datagen.flow_from_directory(\n",
    "    train_path + \"output/\",\n",
    "    target_size=(IMG_HEIGHT, IMG_WIDTH),\n",
    "    class_mode=None,\n",
    "    batch_size=1,\n",
    "    seed=seed,\n",
    "    subset=\"training\"\n",
    ")\n",
    "\n",
    "train_generator = zip(train_image_generator, train_label_generator)\n",
    "\n",
    "seed = 100\n",
    "\n",
    "valid_image_generator = image_datagen.flow_from_directory(\n",
    "    train_path + \"input/\",\n",
    "    target_size=(IMG_HEIGHT, IMG_WIDTH),\n",
    "    class_mode=None,\n",
    "    batch_size=1,\n",
    "    seed=seed,\n",
    "    subset=\"validation\"\n",
    ")\n",
    "\n",
    "valid_label_generator = mask_datagen.flow_from_directory(\n",
    "    train_path + \"output/\",\n",
    "    target_size=(IMG_HEIGHT, IMG_WIDTH),\n",
    "    class_mode=None,\n",
    "    batch_size=1,\n",
    "    seed=seed,\n",
    "    subset=\"validation\"\n",
    ")\n",
    "\n",
    "validation_generator = zip(train_image_generator, train_label_generator)"
   ]
  },
  {
   "cell_type": "code",
   "execution_count": 9,
   "metadata": {},
   "outputs": [],
   "source": [
    "now = datetime.now()\n",
    "log_dir = \"tf_logs/\" + now.strftime(\"%Y%m%d-%H%M%S\") + \"/\"\n",
    "\n",
    "callbacks = [\n",
    "    keras.callbacks.EarlyStopping(monitor=\"val_loss\", patience=10),\n",
    "    keras.callbacks.ModelCheckpoint(filepath=\"../saved_models/unet_model.h5\", save_best_only=True),\n",
    "    keras.callbacks.TensorBoard(log_dir=log_dir)\n",
    "]"
   ]
  },
  {
   "cell_type": "code",
   "execution_count": 10,
   "metadata": {},
   "outputs": [
    {
     "name": "stdout",
     "output_type": "stream",
     "text": [
      "Epoch 1/10\n"
     ]
    },
    {
     "name": "stderr",
     "output_type": "stream",
     "text": [
      "2023-01-22 10:41:10.830446: E tensorflow/core/grappler/optimizers/meta_optimizer.cc:954] layout failed: INVALID_ARGUMENT: Size of values 0 does not match size of permutation 4 @ fanin shape inmodel/dropout/dropout/SelectV2-2-TransposeNHWCToNCHW-LayoutOptimizer\n",
      "2023-01-22 10:41:11.624897: I tensorflow/compiler/xla/stream_executor/cuda/cuda_dnn.cc:428] Loaded cuDNN version 8100\n",
      "2023-01-22 10:41:11.892267: W tensorflow/compiler/xla/stream_executor/gpu/asm_compiler.cc:115] *** WARNING *** You are using ptxas 10.1.243, which is older than 11.1. ptxas before 11.1 is known to miscompile XLA code, leading to incorrect results or invalid-address errors.\n",
      "\n",
      "You may not need to update to CUDA 11.1; cherry-picking the ptxas binary is often sufficient.\n",
      "2023-01-22 10:41:15.269434: I tensorflow/compiler/xla/service/service.cc:173] XLA service 0x7f81f812a0b0 initialized for platform CUDA (this does not guarantee that XLA will be used). Devices:\n",
      "2023-01-22 10:41:15.269460: I tensorflow/compiler/xla/service/service.cc:181]   StreamExecutor device (0): NVIDIA TITAN Xp, Compute Capability 6.1\n",
      "2023-01-22 10:41:15.277496: I tensorflow/compiler/mlir/tensorflow/utils/dump_mlir_util.cc:268] disabling MLIR crash reproducer, set env var `MLIR_CRASH_REPRODUCER_DIRECTORY` to enable.\n",
      "2023-01-22 10:41:15.384218: W tensorflow/compiler/xla/stream_executor/gpu/asm_compiler.cc:115] *** WARNING *** You are using ptxas 10.1.243, which is older than 11.1. ptxas before 11.1 is known to miscompile XLA code, leading to incorrect results or invalid-address errors.\n",
      "\n",
      "You may not need to update to CUDA 11.1; cherry-picking the ptxas binary is often sufficient.\n",
      "2023-01-22 10:41:15.464569: I tensorflow/compiler/jit/xla_compilation_cache.cc:477] Compiled cluster using XLA!  This line is logged at most once for the lifetime of the process.\n",
      "2023-01-22 10:41:15.540986: W tensorflow/compiler/xla/stream_executor/gpu/asm_compiler.cc:115] *** WARNING *** You are using ptxas 10.1.243, which is older than 11.1. ptxas before 11.1 is known to miscompile XLA code, leading to incorrect results or invalid-address errors.\n",
      "\n",
      "You may not need to update to CUDA 11.1; cherry-picking the ptxas binary is often sufficient.\n",
      "2023-01-22 10:41:15.692966: W tensorflow/compiler/xla/stream_executor/gpu/asm_compiler.cc:115] *** WARNING *** You are using ptxas 10.1.243, which is older than 11.1. ptxas before 11.1 is known to miscompile XLA code, leading to incorrect results or invalid-address errors.\n",
      "\n",
      "You may not need to update to CUDA 11.1; cherry-picking the ptxas binary is often sufficient.\n",
      "2023-01-22 10:41:15.846649: W tensorflow/compiler/xla/stream_executor/gpu/asm_compiler.cc:115] *** WARNING *** You are using ptxas 10.1.243, which is older than 11.1. ptxas before 11.1 is known to miscompile XLA code, leading to incorrect results or invalid-address errors.\n",
      "\n",
      "You may not need to update to CUDA 11.1; cherry-picking the ptxas binary is often sufficient.\n",
      "2023-01-22 10:41:15.998136: W tensorflow/compiler/xla/stream_executor/gpu/asm_compiler.cc:115] *** WARNING *** You are using ptxas 10.1.243, which is older than 11.1. ptxas before 11.1 is known to miscompile XLA code, leading to incorrect results or invalid-address errors.\n",
      "\n",
      "You may not need to update to CUDA 11.1; cherry-picking the ptxas binary is often sufficient.\n",
      "2023-01-22 10:41:16.153912: W tensorflow/compiler/xla/stream_executor/gpu/asm_compiler.cc:115] *** WARNING *** You are using ptxas 10.1.243, which is older than 11.1. ptxas before 11.1 is known to miscompile XLA code, leading to incorrect results or invalid-address errors.\n",
      "\n",
      "You may not need to update to CUDA 11.1; cherry-picking the ptxas binary is often sufficient.\n",
      "2023-01-22 10:41:16.307180: W tensorflow/compiler/xla/stream_executor/gpu/asm_compiler.cc:115] *** WARNING *** You are using ptxas 10.1.243, which is older than 11.1. ptxas before 11.1 is known to miscompile XLA code, leading to incorrect results or invalid-address errors.\n",
      "\n",
      "You may not need to update to CUDA 11.1; cherry-picking the ptxas binary is often sufficient.\n",
      "2023-01-22 10:41:16.462677: W tensorflow/compiler/xla/stream_executor/gpu/asm_compiler.cc:115] *** WARNING *** You are using ptxas 10.1.243, which is older than 11.1. ptxas before 11.1 is known to miscompile XLA code, leading to incorrect results or invalid-address errors.\n",
      "\n",
      "You may not need to update to CUDA 11.1; cherry-picking the ptxas binary is often sufficient.\n",
      "2023-01-22 10:41:16.615704: W tensorflow/compiler/xla/stream_executor/gpu/asm_compiler.cc:115] *** WARNING *** You are using ptxas 10.1.243, which is older than 11.1. ptxas before 11.1 is known to miscompile XLA code, leading to incorrect results or invalid-address errors.\n",
      "\n",
      "You may not need to update to CUDA 11.1; cherry-picking the ptxas binary is often sufficient.\n",
      "2023-01-22 10:41:16.771201: W tensorflow/compiler/xla/stream_executor/gpu/asm_compiler.cc:115] *** WARNING *** You are using ptxas 10.1.243, which is older than 11.1. ptxas before 11.1 is known to miscompile XLA code, leading to incorrect results or invalid-address errors.\n",
      "\n",
      "You may not need to update to CUDA 11.1; cherry-picking the ptxas binary is often sufficient.\n",
      "2023-01-22 10:41:16.929430: W tensorflow/compiler/xla/stream_executor/gpu/asm_compiler.cc:115] *** WARNING *** You are using ptxas 10.1.243, which is older than 11.1. ptxas before 11.1 is known to miscompile XLA code, leading to incorrect results or invalid-address errors.\n",
      "\n",
      "You may not need to update to CUDA 11.1; cherry-picking the ptxas binary is often sufficient.\n",
      "2023-01-22 10:41:17.086225: W tensorflow/compiler/xla/stream_executor/gpu/asm_compiler.cc:115] *** WARNING *** You are using ptxas 10.1.243, which is older than 11.1. ptxas before 11.1 is known to miscompile XLA code, leading to incorrect results or invalid-address errors.\n",
      "\n",
      "You may not need to update to CUDA 11.1; cherry-picking the ptxas binary is often sufficient.\n",
      "2023-01-22 10:41:17.244514: W tensorflow/compiler/xla/stream_executor/gpu/asm_compiler.cc:115] *** WARNING *** You are using ptxas 10.1.243, which is older than 11.1. ptxas before 11.1 is known to miscompile XLA code, leading to incorrect results or invalid-address errors.\n",
      "\n",
      "You may not need to update to CUDA 11.1; cherry-picking the ptxas binary is often sufficient.\n",
      "2023-01-22 10:41:17.400424: W tensorflow/compiler/xla/stream_executor/gpu/asm_compiler.cc:115] *** WARNING *** You are using ptxas 10.1.243, which is older than 11.1. ptxas before 11.1 is known to miscompile XLA code, leading to incorrect results or invalid-address errors.\n",
      "\n",
      "You may not need to update to CUDA 11.1; cherry-picking the ptxas binary is often sufficient.\n",
      "2023-01-22 10:41:17.559001: W tensorflow/compiler/xla/stream_executor/gpu/asm_compiler.cc:115] *** WARNING *** You are using ptxas 10.1.243, which is older than 11.1. ptxas before 11.1 is known to miscompile XLA code, leading to incorrect results or invalid-address errors.\n",
      "\n",
      "You may not need to update to CUDA 11.1; cherry-picking the ptxas binary is often sufficient.\n",
      "2023-01-22 10:41:17.716533: W tensorflow/compiler/xla/stream_executor/gpu/asm_compiler.cc:115] *** WARNING *** You are using ptxas 10.1.243, which is older than 11.1. ptxas before 11.1 is known to miscompile XLA code, leading to incorrect results or invalid-address errors.\n",
      "\n",
      "You may not need to update to CUDA 11.1; cherry-picking the ptxas binary is often sufficient.\n",
      "2023-01-22 10:41:17.874935: W tensorflow/compiler/xla/stream_executor/gpu/asm_compiler.cc:115] *** WARNING *** You are using ptxas 10.1.243, which is older than 11.1. ptxas before 11.1 is known to miscompile XLA code, leading to incorrect results or invalid-address errors.\n",
      "\n",
      "You may not need to update to CUDA 11.1; cherry-picking the ptxas binary is often sufficient.\n",
      "2023-01-22 10:41:18.032501: W tensorflow/compiler/xla/stream_executor/gpu/asm_compiler.cc:115] *** WARNING *** You are using ptxas 10.1.243, which is older than 11.1. ptxas before 11.1 is known to miscompile XLA code, leading to incorrect results or invalid-address errors.\n",
      "\n",
      "You may not need to update to CUDA 11.1; cherry-picking the ptxas binary is often sufficient.\n",
      "2023-01-22 10:41:18.191451: W tensorflow/compiler/xla/stream_executor/gpu/asm_compiler.cc:115] *** WARNING *** You are using ptxas 10.1.243, which is older than 11.1. ptxas before 11.1 is known to miscompile XLA code, leading to incorrect results or invalid-address errors.\n",
      "\n",
      "You may not need to update to CUDA 11.1; cherry-picking the ptxas binary is often sufficient.\n"
     ]
    },
    {
     "name": "stderr",
     "output_type": "stream",
     "text": [
      "2023-01-22 10:41:18.352468: W tensorflow/compiler/xla/stream_executor/gpu/asm_compiler.cc:115] *** WARNING *** You are using ptxas 10.1.243, which is older than 11.1. ptxas before 11.1 is known to miscompile XLA code, leading to incorrect results or invalid-address errors.\n",
      "\n",
      "You may not need to update to CUDA 11.1; cherry-picking the ptxas binary is often sufficient.\n",
      "2023-01-22 10:41:18.512880: W tensorflow/compiler/xla/stream_executor/gpu/asm_compiler.cc:115] *** WARNING *** You are using ptxas 10.1.243, which is older than 11.1. ptxas before 11.1 is known to miscompile XLA code, leading to incorrect results or invalid-address errors.\n",
      "\n",
      "You may not need to update to CUDA 11.1; cherry-picking the ptxas binary is often sufficient.\n",
      "2023-01-22 10:41:18.668838: W tensorflow/compiler/xla/stream_executor/gpu/asm_compiler.cc:115] *** WARNING *** You are using ptxas 10.1.243, which is older than 11.1. ptxas before 11.1 is known to miscompile XLA code, leading to incorrect results or invalid-address errors.\n",
      "\n",
      "You may not need to update to CUDA 11.1; cherry-picking the ptxas binary is often sufficient.\n",
      "2023-01-22 10:41:18.826454: W tensorflow/compiler/xla/stream_executor/gpu/asm_compiler.cc:115] *** WARNING *** You are using ptxas 10.1.243, which is older than 11.1. ptxas before 11.1 is known to miscompile XLA code, leading to incorrect results or invalid-address errors.\n",
      "\n",
      "You may not need to update to CUDA 11.1; cherry-picking the ptxas binary is often sufficient.\n",
      "2023-01-22 10:41:18.983336: W tensorflow/compiler/xla/stream_executor/gpu/asm_compiler.cc:115] *** WARNING *** You are using ptxas 10.1.243, which is older than 11.1. ptxas before 11.1 is known to miscompile XLA code, leading to incorrect results or invalid-address errors.\n",
      "\n",
      "You may not need to update to CUDA 11.1; cherry-picking the ptxas binary is often sufficient.\n",
      "2023-01-22 10:41:19.142928: W tensorflow/compiler/xla/stream_executor/gpu/asm_compiler.cc:115] *** WARNING *** You are using ptxas 10.1.243, which is older than 11.1. ptxas before 11.1 is known to miscompile XLA code, leading to incorrect results or invalid-address errors.\n",
      "\n",
      "You may not need to update to CUDA 11.1; cherry-picking the ptxas binary is often sufficient.\n",
      "2023-01-22 10:41:19.298045: W tensorflow/compiler/xla/stream_executor/gpu/asm_compiler.cc:115] *** WARNING *** You are using ptxas 10.1.243, which is older than 11.1. ptxas before 11.1 is known to miscompile XLA code, leading to incorrect results or invalid-address errors.\n",
      "\n",
      "You may not need to update to CUDA 11.1; cherry-picking the ptxas binary is often sufficient.\n",
      "2023-01-22 10:41:19.457598: W tensorflow/compiler/xla/stream_executor/gpu/asm_compiler.cc:115] *** WARNING *** You are using ptxas 10.1.243, which is older than 11.1. ptxas before 11.1 is known to miscompile XLA code, leading to incorrect results or invalid-address errors.\n",
      "\n",
      "You may not need to update to CUDA 11.1; cherry-picking the ptxas binary is often sufficient.\n",
      "2023-01-22 10:41:19.613818: W tensorflow/compiler/xla/stream_executor/gpu/asm_compiler.cc:115] *** WARNING *** You are using ptxas 10.1.243, which is older than 11.1. ptxas before 11.1 is known to miscompile XLA code, leading to incorrect results or invalid-address errors.\n",
      "\n",
      "You may not need to update to CUDA 11.1; cherry-picking the ptxas binary is often sufficient.\n",
      "2023-01-22 10:41:19.772474: W tensorflow/compiler/xla/stream_executor/gpu/asm_compiler.cc:115] *** WARNING *** You are using ptxas 10.1.243, which is older than 11.1. ptxas before 11.1 is known to miscompile XLA code, leading to incorrect results or invalid-address errors.\n",
      "\n",
      "You may not need to update to CUDA 11.1; cherry-picking the ptxas binary is often sufficient.\n",
      "2023-01-22 10:41:19.928073: W tensorflow/compiler/xla/stream_executor/gpu/asm_compiler.cc:115] *** WARNING *** You are using ptxas 10.1.243, which is older than 11.1. ptxas before 11.1 is known to miscompile XLA code, leading to incorrect results or invalid-address errors.\n",
      "\n",
      "You may not need to update to CUDA 11.1; cherry-picking the ptxas binary is often sufficient.\n",
      "2023-01-22 10:41:20.087324: W tensorflow/compiler/xla/stream_executor/gpu/asm_compiler.cc:115] *** WARNING *** You are using ptxas 10.1.243, which is older than 11.1. ptxas before 11.1 is known to miscompile XLA code, leading to incorrect results or invalid-address errors.\n",
      "\n",
      "You may not need to update to CUDA 11.1; cherry-picking the ptxas binary is often sufficient.\n",
      "2023-01-22 10:41:20.244330: W tensorflow/compiler/xla/stream_executor/gpu/asm_compiler.cc:115] *** WARNING *** You are using ptxas 10.1.243, which is older than 11.1. ptxas before 11.1 is known to miscompile XLA code, leading to incorrect results or invalid-address errors.\n",
      "\n",
      "You may not need to update to CUDA 11.1; cherry-picking the ptxas binary is often sufficient.\n",
      "2023-01-22 10:41:20.399898: W tensorflow/compiler/xla/stream_executor/gpu/asm_compiler.cc:115] *** WARNING *** You are using ptxas 10.1.243, which is older than 11.1. ptxas before 11.1 is known to miscompile XLA code, leading to incorrect results or invalid-address errors.\n",
      "\n",
      "You may not need to update to CUDA 11.1; cherry-picking the ptxas binary is often sufficient.\n",
      "2023-01-22 10:41:20.554612: W tensorflow/compiler/xla/stream_executor/gpu/asm_compiler.cc:115] *** WARNING *** You are using ptxas 10.1.243, which is older than 11.1. ptxas before 11.1 is known to miscompile XLA code, leading to incorrect results or invalid-address errors.\n",
      "\n",
      "You may not need to update to CUDA 11.1; cherry-picking the ptxas binary is often sufficient.\n",
      "2023-01-22 10:41:20.708369: W tensorflow/compiler/xla/stream_executor/gpu/asm_compiler.cc:115] *** WARNING *** You are using ptxas 10.1.243, which is older than 11.1. ptxas before 11.1 is known to miscompile XLA code, leading to incorrect results or invalid-address errors.\n",
      "\n",
      "You may not need to update to CUDA 11.1; cherry-picking the ptxas binary is often sufficient.\n",
      "2023-01-22 10:41:20.862955: W tensorflow/compiler/xla/stream_executor/gpu/asm_compiler.cc:115] *** WARNING *** You are using ptxas 10.1.243, which is older than 11.1. ptxas before 11.1 is known to miscompile XLA code, leading to incorrect results or invalid-address errors.\n",
      "\n",
      "You may not need to update to CUDA 11.1; cherry-picking the ptxas binary is often sufficient.\n",
      "2023-01-22 10:41:21.018080: W tensorflow/compiler/xla/stream_executor/gpu/asm_compiler.cc:115] *** WARNING *** You are using ptxas 10.1.243, which is older than 11.1. ptxas before 11.1 is known to miscompile XLA code, leading to incorrect results or invalid-address errors.\n",
      "\n",
      "You may not need to update to CUDA 11.1; cherry-picking the ptxas binary is often sufficient.\n",
      "2023-01-22 10:41:21.173934: W tensorflow/compiler/xla/stream_executor/gpu/asm_compiler.cc:115] *** WARNING *** You are using ptxas 10.1.243, which is older than 11.1. ptxas before 11.1 is known to miscompile XLA code, leading to incorrect results or invalid-address errors.\n",
      "\n",
      "You may not need to update to CUDA 11.1; cherry-picking the ptxas binary is often sufficient.\n",
      "2023-01-22 10:41:21.327807: W tensorflow/compiler/xla/stream_executor/gpu/asm_compiler.cc:115] *** WARNING *** You are using ptxas 10.1.243, which is older than 11.1. ptxas before 11.1 is known to miscompile XLA code, leading to incorrect results or invalid-address errors.\n",
      "\n",
      "You may not need to update to CUDA 11.1; cherry-picking the ptxas binary is often sufficient.\n",
      "2023-01-22 10:41:21.483270: W tensorflow/compiler/xla/stream_executor/gpu/asm_compiler.cc:115] *** WARNING *** You are using ptxas 10.1.243, which is older than 11.1. ptxas before 11.1 is known to miscompile XLA code, leading to incorrect results or invalid-address errors.\n",
      "\n",
      "You may not need to update to CUDA 11.1; cherry-picking the ptxas binary is often sufficient.\n",
      "2023-01-22 10:41:21.636843: W tensorflow/compiler/xla/stream_executor/gpu/asm_compiler.cc:115] *** WARNING *** You are using ptxas 10.1.243, which is older than 11.1. ptxas before 11.1 is known to miscompile XLA code, leading to incorrect results or invalid-address errors.\n",
      "\n",
      "You may not need to update to CUDA 11.1; cherry-picking the ptxas binary is often sufficient.\n",
      "2023-01-22 10:41:21.792102: W tensorflow/compiler/xla/stream_executor/gpu/asm_compiler.cc:115] *** WARNING *** You are using ptxas 10.1.243, which is older than 11.1. ptxas before 11.1 is known to miscompile XLA code, leading to incorrect results or invalid-address errors.\n",
      "\n",
      "You may not need to update to CUDA 11.1; cherry-picking the ptxas binary is often sufficient.\n",
      "2023-01-22 10:41:21.945879: W tensorflow/compiler/xla/stream_executor/gpu/asm_compiler.cc:115] *** WARNING *** You are using ptxas 10.1.243, which is older than 11.1. ptxas before 11.1 is known to miscompile XLA code, leading to incorrect results or invalid-address errors.\n",
      "\n",
      "You may not need to update to CUDA 11.1; cherry-picking the ptxas binary is often sufficient.\n"
     ]
    },
    {
     "name": "stderr",
     "output_type": "stream",
     "text": [
      "2023-01-22 10:41:22.102380: W tensorflow/compiler/xla/stream_executor/gpu/asm_compiler.cc:115] *** WARNING *** You are using ptxas 10.1.243, which is older than 11.1. ptxas before 11.1 is known to miscompile XLA code, leading to incorrect results or invalid-address errors.\n",
      "\n",
      "You may not need to update to CUDA 11.1; cherry-picking the ptxas binary is often sufficient.\n",
      "2023-01-22 10:41:22.255281: W tensorflow/compiler/xla/stream_executor/gpu/asm_compiler.cc:115] *** WARNING *** You are using ptxas 10.1.243, which is older than 11.1. ptxas before 11.1 is known to miscompile XLA code, leading to incorrect results or invalid-address errors.\n",
      "\n",
      "You may not need to update to CUDA 11.1; cherry-picking the ptxas binary is often sufficient.\n",
      "2023-01-22 10:41:22.408324: W tensorflow/compiler/xla/stream_executor/gpu/asm_compiler.cc:115] *** WARNING *** You are using ptxas 10.1.243, which is older than 11.1. ptxas before 11.1 is known to miscompile XLA code, leading to incorrect results or invalid-address errors.\n",
      "\n",
      "You may not need to update to CUDA 11.1; cherry-picking the ptxas binary is often sufficient.\n"
     ]
    },
    {
     "name": "stdout",
     "output_type": "stream",
     "text": [
      "1000/1000 [==============================] - 207s 192ms/step - loss: 1.1729 - accuracy: 0.7939 - val_loss: 1.1950 - val_accuracy: 0.7564\n",
      "Epoch 2/10\n",
      "1000/1000 [==============================] - 193s 193ms/step - loss: 0.9086 - accuracy: 0.8485 - val_loss: 1.1689 - val_accuracy: 0.7756\n",
      "Epoch 3/10\n",
      "1000/1000 [==============================] - 192s 192ms/step - loss: 0.8144 - accuracy: 0.8633 - val_loss: 0.9287 - val_accuracy: 0.8412\n",
      "Epoch 4/10\n",
      "1000/1000 [==============================] - 192s 192ms/step - loss: 0.7784 - accuracy: 0.8703 - val_loss: 0.9241 - val_accuracy: 0.8519\n",
      "Epoch 5/10\n",
      "1000/1000 [==============================] - 191s 191ms/step - loss: 0.7388 - accuracy: 0.8778 - val_loss: 0.9645 - val_accuracy: 0.8407\n",
      "Epoch 6/10\n",
      "1000/1000 [==============================] - 192s 192ms/step - loss: 0.7160 - accuracy: 0.8817 - val_loss: 0.8614 - val_accuracy: 0.8754\n",
      "Epoch 7/10\n",
      "1000/1000 [==============================] - 192s 192ms/step - loss: 0.6957 - accuracy: 0.8841 - val_loss: 0.8333 - val_accuracy: 0.8874\n",
      "Epoch 8/10\n",
      "1000/1000 [==============================] - 191s 191ms/step - loss: 0.6823 - accuracy: 0.8863 - val_loss: 0.8830 - val_accuracy: 0.8748\n",
      "Epoch 9/10\n",
      "1000/1000 [==============================] - 191s 191ms/step - loss: 0.6584 - accuracy: 0.8911 - val_loss: 0.8542 - val_accuracy: 0.8874\n",
      "Epoch 10/10\n",
      "1000/1000 [==============================] - 192s 192ms/step - loss: 0.6400 - accuracy: 0.8925 - val_loss: 0.7575 - val_accuracy: 0.8975\n"
     ]
    },
    {
     "data": {
      "text/plain": [
       "<keras.callbacks.History at 0x7f8234479070>"
      ]
     },
     "execution_count": 10,
     "metadata": {},
     "output_type": "execute_result"
    }
   ],
   "source": [
    "unet_model.fit(\n",
    "    train_generator,\n",
    "    epochs=10,\n",
    "    steps_per_epoch=1000,\n",
    "    validation_data=validation_generator,\n",
    "    validation_steps=100,\n",
    "    callbacks=callbacks\n",
    ")"
   ]
  },
  {
   "cell_type": "code",
   "execution_count": 11,
   "metadata": {},
   "outputs": [
    {
     "name": "stdout",
     "output_type": "stream",
     "text": [
      "Found 24 images belonging to 1 classes.\n",
      "Found 24 images belonging to 1 classes.\n"
     ]
    }
   ],
   "source": [
    "test_image_datagen = ImageDataGenerator(rescale=1./255)\n",
    "test_mask_datagen = ImageDataGenerator(rescale=1./255)\n",
    "\n",
    "seed = 1000\n",
    "\n",
    "test_image_generator = test_image_datagen.flow_from_directory(\n",
    "    test_path + \"input/\",\n",
    "    target_size=(IMG_HEIGHT, IMG_WIDTH),\n",
    "    class_mode=None,\n",
    "    batch_size=1,\n",
    "    seed=seed\n",
    ")\n",
    "\n",
    "test_mask_generator = test_mask_datagen.flow_from_directory(\n",
    "    test_path + \"output/\",\n",
    "    target_size=(IMG_HEIGHT, IMG_WIDTH),\n",
    "    class_mode=None,\n",
    "    batch_size=1,\n",
    "    seed=seed\n",
    ")\n",
    "\n",
    "test_generator = zip(test_image_generator, test_mask_generator)"
   ]
  },
  {
   "cell_type": "code",
   "execution_count": 12,
   "metadata": {},
   "outputs": [
    {
     "name": "stdout",
     "output_type": "stream",
     "text": [
      "20/20 [==============================] - 1s 42ms/step - loss: 0.7147 - accuracy: 0.8920\n"
     ]
    },
    {
     "data": {
      "text/plain": [
       "[0.7146849632263184, 0.8920092582702637]"
      ]
     },
     "execution_count": 12,
     "metadata": {},
     "output_type": "execute_result"
    }
   ],
   "source": [
    "unet_model.evaluate(test_generator, steps=20)"
   ]
  },
  {
   "cell_type": "code",
   "execution_count": 13,
   "metadata": {},
   "outputs": [],
   "source": [
    "img, mask_true = next(test_generator)"
   ]
  },
  {
   "cell_type": "code",
   "execution_count": 14,
   "metadata": {},
   "outputs": [
    {
     "name": "stdout",
     "output_type": "stream",
     "text": [
      "1/1 [==============================] - 0s 203ms/step\n"
     ]
    }
   ],
   "source": [
    "pred = unet_model.predict(img)\n",
    "mask = tf.one_hot(tf.argmax(pred, axis=3), depth=num_classes)\n",
    "\n",
    "img_pred = draw_segmentation_mask(np.uint8(img[0]*255), mask[0], 0.3)\n",
    "\n",
    "cv.imshow(\"img\", cv.cvtColor(img_pred, cv.COLOR_RGB2BGR))\n",
    "cv.waitKey()\n",
    "cv.destroyAllWindows()\n",
    "\n",
    "img_true = draw_segmentation_mask(np.uint8(img[0]*255), np.round(mask_true[0]), 0.3)\n",
    "cv.imshow(\"img\", cv.cvtColor(img_true, cv.COLOR_RGB2BGR))\n",
    "cv.waitKey()\n",
    "cv.destroyAllWindows()"
   ]
  },
  {
   "cell_type": "code",
   "execution_count": 15,
   "metadata": {},
   "outputs": [
    {
     "data": {
      "text/plain": [
       "<matplotlib.image.AxesImage at 0x7f7ef6426e50>"
      ]
     },
     "execution_count": 15,
     "metadata": {},
     "output_type": "execute_result"
    },
    {
     "data": {
      "image/png": "[encoded data removed]",
      "text/plain": [
       "<Figure size 1000x1000 with 3 Axes>"
      ]
     },
     "metadata": {},
     "output_type": "display_data"
    }
   ],
   "source": [
    "import matplotlib.pyplot as plt\n",
    "\n",
    "fig, axes = plt.subplots(1, 3, figsize=(10, 10))\n",
    "\n",
    "axes[0].imshow(mask[0, :, :, 0]*255)\n",
    "axes[1].imshow(mask[0, :, :, 1]*255)\n",
    "axes[2].imshow(mask[0, :, :, 2]*255)"
   ]
  },
  {
   "cell_type": "code",
   "execution_count": 16,
   "metadata": {},
   "outputs": [],
   "source": [
    "# cuda.select_device(0)\n",
    "# cuda.close()"
   ]
  },
  {
   "cell_type": "code",
   "execution_count": 17,
   "metadata": {},
   "outputs": [],
   "source": [
    "unet_model.save(\"../saved_models/model.h5\")"
   ]
  },
  {
   "cell_type": "code",
   "execution_count": null,
   "metadata": {},
   "outputs": [],
   "source": []
  },
  {
   "cell_type": "code",
   "execution_count": null,
   "metadata": {},
   "outputs": [],
   "source": []
  },
  {
   "cell_type": "code",
   "execution_count": null,
   "metadata": {},
   "outputs": [],
   "source": []
  }
 ],
 "metadata": {
  "kernelspec": {
   "display_name": "Python 3 (ipykernel)",
   "language": "python",
   "name": "python3"
  },
  "language_info": {
   "codemirror_mode": {
    "name": "ipython",
    "version": 3
   },
   "file_extension": ".py",
   "mimetype": "text/x-python",
   "name": "python",
   "nbconvert_exporter": "python",
   "pygments_lexer": "ipython3",
   "version": "3.9.0"
  },
  "vscode": {
   "interpreter": {
    "hash": "e0705ffca6463dcf2f3299dbfb4d98ae04cdf7290704e83d5151259794266d61"
   }
  }
 },
 "nbformat": 4,
 "nbformat_minor": 4
}
